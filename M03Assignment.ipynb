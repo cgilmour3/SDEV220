{
 "cells": [
  {
   "cell_type": "code",
   "execution_count": null,
   "id": "14621f2d-4270-4870-844f-6c75a3a8b78e",
   "metadata": {},
   "outputs": [],
   "source": [
    "#7.4"
   ]
  },
  {
   "cell_type": "code",
   "execution_count": 1,
   "id": "e7365136-962c-4eb8-9e57-b09325c6615a",
   "metadata": {},
   "outputs": [],
   "source": [
    "things = [\"mozzarella\", \"cinderella\", \"salmonella\"]"
   ]
  },
  {
   "cell_type": "code",
   "execution_count": null,
   "id": "461bb0fe-cacf-4f3a-a778-807fc9c1ee0e",
   "metadata": {},
   "outputs": [],
   "source": [
    "#7.5"
   ]
  },
  {
   "cell_type": "code",
   "execution_count": 7,
   "id": "8f6af101-c6a5-4dce-9ff6-8fd1f88a88f9",
   "metadata": {},
   "outputs": [
    {
     "name": "stdout",
     "output_type": "stream",
     "text": [
      "['mozzarella', 'CINDERELLA', 'salmonella']\n"
     ]
    }
   ],
   "source": [
    "things = [\"mozzarella\", \"cinderella\", \"salmonella\"]\n",
    "x = things[1].upper()\n",
    "things[1] = x\n",
    "print(things)"
   ]
  },
  {
   "cell_type": "code",
   "execution_count": null,
   "id": "c5c2df6f-62a1-4c38-a1ae-f908397e54eb",
   "metadata": {},
   "outputs": [],
   "source": [
    "#7.6"
   ]
  },
  {
   "cell_type": "code",
   "execution_count": 11,
   "id": "8da95bd5-6582-4b83-b5ae-d6ee3dff409c",
   "metadata": {},
   "outputs": [
    {
     "name": "stdout",
     "output_type": "stream",
     "text": [
      "['MOZZARELLA', 'cinderella', 'salmonella']\n"
     ]
    }
   ],
   "source": [
    "things = [\"mozzarella\", \"cinderella\", \"salmonella\"]\n",
    "x = things[0].upper()\n",
    "things[0] = x\n",
    "print(things)"
   ]
  },
  {
   "cell_type": "code",
   "execution_count": null,
   "id": "f47fff32-75f4-4445-abdb-c93875e3a482",
   "metadata": {},
   "outputs": [],
   "source": [
    "#7.7"
   ]
  },
  {
   "cell_type": "code",
   "execution_count": 13,
   "id": "3ec312f6-1422-4576-9f4f-971ca2890e64",
   "metadata": {},
   "outputs": [
    {
     "name": "stdout",
     "output_type": "stream",
     "text": [
      "['mozzarella', 'cinderella']\n"
     ]
    }
   ],
   "source": [
    "things = [\"mozzarella\", \"cinderella\", \"salmonella\"]\n",
    "things.remove(\"salmonella\")\n",
    "print(things)"
   ]
  },
  {
   "cell_type": "code",
   "execution_count": null,
   "id": "84542666-1384-48c3-b61e-e6cdf303067c",
   "metadata": {},
   "outputs": [],
   "source": [
    "#9.1"
   ]
  },
  {
   "cell_type": "code",
   "execution_count": 17,
   "id": "e121d157-9e81-47e4-905a-8bd158869d83",
   "metadata": {},
   "outputs": [
    {
     "name": "stdout",
     "output_type": "stream",
     "text": [
      "['Harry', 'Ron', 'Hermione']\n"
     ]
    }
   ],
   "source": [
    "def good():\n",
    "    return ['Harry', 'Ron', 'Hermione']\n",
    "print(good())"
   ]
  },
  {
   "cell_type": "code",
   "execution_count": null,
   "id": "5d8b428c-ee90-4e17-b3f0-c061e40c384d",
   "metadata": {},
   "outputs": [],
   "source": [
    "#9.2"
   ]
  },
  {
   "cell_type": "code",
   "execution_count": 21,
   "id": "4f0a1791-af6f-4824-b425-d1945a18c7e1",
   "metadata": {},
   "outputs": [
    {
     "name": "stdout",
     "output_type": "stream",
     "text": [
      "5\n"
     ]
    }
   ],
   "source": [
    "def get_odds():\n",
    "   for number in range(10):\n",
    "       if number % 2 != 0:\n",
    "           yield number\n",
    "           \n",
    "gen = get_odds()\n",
    "\n",
    "third_value = None\n",
    "for i, value in enumerate(gen, start=1):\n",
    "    if i == 3:\n",
    "        third_value = value\n",
    "        break\n",
    "\n",
    "print(third_value)"
   ]
  },
  {
   "cell_type": "code",
   "execution_count": null,
   "id": "fa9f3ab3-39f3-4022-8ee9-60a851942ffa",
   "metadata": {},
   "outputs": [],
   "source": []
  }
 ],
 "metadata": {
  "kernelspec": {
   "display_name": "Python 3 (ipykernel)",
   "language": "python",
   "name": "python3"
  },
  "language_info": {
   "codemirror_mode": {
    "name": "ipython",
    "version": 3
   },
   "file_extension": ".py",
   "mimetype": "text/x-python",
   "name": "python",
   "nbconvert_exporter": "python",
   "pygments_lexer": "ipython3",
   "version": "3.12.4"
  }
 },
 "nbformat": 4,
 "nbformat_minor": 5
}
