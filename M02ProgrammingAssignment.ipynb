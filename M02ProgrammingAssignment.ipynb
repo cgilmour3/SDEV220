{
 "cells": [
  {
   "cell_type": "code",
   "execution_count": 1,
   "id": "337a6623-0d4e-4208-9244-3c50415574c1",
   "metadata": {},
   "outputs": [
    {
     "name": "stdout",
     "output_type": "stream",
     "text": [
      "Just right\n"
     ]
    }
   ],
   "source": [
    "secret = 8\n",
    "guess = 8\n",
    "if guess < secret:\n",
    "    print(\"Too low\")\n",
    "elif guess > secret:\n",
    "    print(\"too high\")\n",
    "elif guess == secret:\n",
    "    print(\"Just right\")"
   ]
  },
  {
   "cell_type": "code",
   "execution_count": 9,
   "id": "bdbc8332-19f7-4592-bbb1-88bc79db7479",
   "metadata": {},
   "outputs": [
    {
     "name": "stdout",
     "output_type": "stream",
     "text": [
      "watermelon\n"
     ]
    }
   ],
   "source": [
    "small = False\n",
    "green = True\n",
    "if small and green:\n",
    "    print(\"pea\")\n",
    "elif small and not green:\n",
    "    print(\"cherry\")\n",
    "elif not small and green:\n",
    "    print(\"watermelon\")\n",
    "elif not small and not green:\n",
    "    print(\"pumpkin\")\n"
   ]
  },
  {
   "cell_type": "code",
   "execution_count": 11,
   "id": "01a7e8a3-cdd9-4395-b907-97d4fd079c0d",
   "metadata": {},
   "outputs": [
    {
     "name": "stdout",
     "output_type": "stream",
     "text": [
      "3\n",
      "2\n",
      "1\n",
      "0\n"
     ]
    }
   ],
   "source": [
    "nums = [3,2,1,0]\n",
    "for i in nums:\n",
    "    print(i)"
   ]
  },
  {
   "cell_type": "code",
   "execution_count": 19,
   "id": "d660ed42-3f15-46d9-b38a-71e6a75f129c",
   "metadata": {},
   "outputs": [
    {
     "name": "stdout",
     "output_type": "stream",
     "text": [
      "Too low\n",
      "Too low\n",
      "Too low\n",
      "Too low\n",
      "Too low\n",
      "Too low\n",
      "Found it!\n"
     ]
    }
   ],
   "source": [
    "guess_me = 7\n",
    "number = 1\n",
    "while number != guess_me + 1:\n",
    "    if number == guess_me:\n",
    "        print(\"Found it!\")\n",
    "    elif number < guess_me:\n",
    "        print(\"Too low\")\n",
    "    elif number > guess_me:\n",
    "        print(\"Oops\")\n",
    "        break\n",
    "    number += 1"
   ]
  },
  {
   "cell_type": "code",
   "execution_count": 21,
   "id": "fd7a4c58-6458-4654-9adb-db4f256e2b7e",
   "metadata": {},
   "outputs": [
    {
     "name": "stdout",
     "output_type": "stream",
     "text": [
      "too low\n",
      "too low\n",
      "too low\n",
      "too low\n",
      "too low\n",
      "found it!\n",
      "oops\n"
     ]
    }
   ],
   "source": [
    "guess_me = 5\n",
    "for number in range(10):\n",
    "    if number == guess_me:\n",
    "        print(\"found it!\")\n",
    "        break\n",
    "    elif number < guess_me:\n",
    "        print(\"too low\")\n",
    "    elif number > guess_me:\n",
    "        print(\"oops\")\n",
    "        break"
   ]
  },
  {
   "cell_type": "code",
   "execution_count": null,
   "id": "a5b92001-6cae-4e88-bba0-69797a4a87d5",
   "metadata": {},
   "outputs": [],
   "source": []
  }
 ],
 "metadata": {
  "kernelspec": {
   "display_name": "Python 3 (ipykernel)",
   "language": "python",
   "name": "python3"
  },
  "language_info": {
   "codemirror_mode": {
    "name": "ipython",
    "version": 3
   },
   "file_extension": ".py",
   "mimetype": "text/x-python",
   "name": "python",
   "nbconvert_exporter": "python",
   "pygments_lexer": "ipython3",
   "version": "3.12.4"
  }
 },
 "nbformat": 4,
 "nbformat_minor": 5
}
