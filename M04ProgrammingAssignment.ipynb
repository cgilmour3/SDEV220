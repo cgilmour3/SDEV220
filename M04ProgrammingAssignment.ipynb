{
 "cells": [
  {
   "cell_type": "code",
   "execution_count": null,
   "id": "b0f74c68-1d95-4d6c-98b5-ad95cdc03d1f",
   "metadata": {},
   "outputs": [],
   "source": [
    "def hours():\n",
    "    print('Open 9-5 daily')"
   ]
  },
  {
   "cell_type": "code",
   "execution_count": null,
   "id": "5910c20f-6e4a-4801-8efc-e8af13752d53",
   "metadata": {},
   "outputs": [],
   "source": [
    "import zoo as 'menagerie'\n",
    "menagerie.hours"
   ]
  },
  {
   "cell_type": "code",
   "execution_count": null,
   "id": "7af06639-7ebd-41e8-a552-7077fa276cc0",
   "metadata": {},
   "outputs": [],
   "source": []
  }
 ],
 "metadata": {
  "kernelspec": {
   "display_name": "Python 3 (ipykernel)",
   "language": "python",
   "name": "python3"
  },
  "language_info": {
   "codemirror_mode": {
    "name": "ipython",
    "version": 3
   },
   "file_extension": ".py",
   "mimetype": "text/x-python",
   "name": "python",
   "nbconvert_exporter": "python",
   "pygments_lexer": "ipython3",
   "version": "3.12.4"
  }
 },
 "nbformat": 4,
 "nbformat_minor": 5
}
